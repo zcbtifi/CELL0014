{
 "cells": [
  {
   "cell_type": "code",
   "execution_count": 50,
   "metadata": {},
   "outputs": [
    {
     "ename": "ImportError",
     "evalue": "cannot import name 'notebook' from 'IPython.display' (/opt/anaconda3/lib/python3.8/site-packages/IPython/display.py)",
     "output_type": "error",
     "traceback": [
      "\u001b[0;31m---------------------------------------------------------------------------\u001b[0m",
      "\u001b[0;31mImportError\u001b[0m                               Traceback (most recent call last)",
      "\u001b[0;32m<ipython-input-50-28f725837ce0>\u001b[0m in \u001b[0;36m<module>\u001b[0;34m\u001b[0m\n\u001b[0;32m----> 1\u001b[0;31m \u001b[0;32mfrom\u001b[0m \u001b[0mIPython\u001b[0m\u001b[0;34m.\u001b[0m\u001b[0mdisplay\u001b[0m \u001b[0;32mimport\u001b[0m \u001b[0mdisplay\u001b[0m\u001b[0;34m,\u001b[0m \u001b[0mMarkdown\u001b[0m\u001b[0;34m,\u001b[0m \u001b[0mclear_output\u001b[0m\u001b[0;34m,\u001b[0m \u001b[0mJavascript\u001b[0m\u001b[0;34m,\u001b[0m \u001b[0mnotebook\u001b[0m\u001b[0;34m\u001b[0m\u001b[0;34m\u001b[0m\u001b[0m\n\u001b[0m\u001b[1;32m      2\u001b[0m \u001b[0;32mimport\u001b[0m \u001b[0mipywidgets\u001b[0m \u001b[0;32mas\u001b[0m \u001b[0mwidgets\u001b[0m\u001b[0;34m\u001b[0m\u001b[0;34m\u001b[0m\u001b[0m\n\u001b[1;32m      3\u001b[0m \u001b[0;32mfrom\u001b[0m \u001b[0mipywidgets\u001b[0m \u001b[0;32mimport\u001b[0m \u001b[0mVBox\u001b[0m\u001b[0;34m,\u001b[0m \u001b[0mHBox\u001b[0m\u001b[0;34m\u001b[0m\u001b[0;34m\u001b[0m\u001b[0m\n",
      "\u001b[0;31mImportError\u001b[0m: cannot import name 'notebook' from 'IPython.display' (/opt/anaconda3/lib/python3.8/site-packages/IPython/display.py)"
     ]
    }
   ],
   "source": [
    "from IPython.display import display, Markdown, clear_output, Javascript, notebook\n",
    "import ipywidgets as widgets\n",
    "from ipywidgets import VBox, HBox"
   ]
  },
  {
   "cell_type": "code",
   "execution_count": 56,
   "metadata": {},
   "outputs": [],
   "source": [
    "def correct_click(i, out):\n",
    "    with out:\n",
    "        clear_output()\n",
    "        print(\"Correct!\")\n",
    "        \n",
    "def wrong_click(i, out):\n",
    "    with out:\n",
    "        clear_output()\n",
    "        print(\"Wrong!\")\n",
    "    \n",
    "def hint_click(hint,out_hint):\n",
    "    with out_hint:\n",
    "        clear_output()\n",
    "        print(hint)\n",
    "\n",
    "def run_next(ev):\n",
    "    display(Javascript('IPython.notebook.execute_cells([IPython.notebook.get_selected_index()+1])'))\n",
    "\n",
    "\n",
    "def create_mcq(q_num, q_text, options, ans, hint):\n",
    "    button1 = 0\n",
    "    buttons={0:button1}\n",
    "    out1=0\n",
    "    outs={0:out1}\n",
    "    button_list=[]\n",
    "    out_list=[]\n",
    "    out_hint=widgets.Output()\n",
    "    button_hint=widgets.Button(description='Get Hint')\n",
    "    button_hint.on_click(hint_click(hint,out_hint))\n",
    "    \n",
    "    button_js=widgets.Button(description=\"next\")\n",
    "    button_js.on_click(run_next)\n",
    "    for i in range(0,len(options)):\n",
    "        if len(options)>4:\n",
    "            raise ValueError(\"Too many options! (max 4)\")\n",
    "        else:\n",
    "            buttons[i]=widgets.Button(description='{}'.format((options[i])))\n",
    "            button_list.append(buttons[i])\n",
    "            outs[i]=widgets.Output()\n",
    "            out_list.append(outs[i])\n",
    "            if options[i]==ans:\n",
    "                buttons[i].on_click(correct_click(i, outs[i]))    \n",
    "            else:\n",
    "                buttons[i].on_click(wrong_click(i, outs[i]))\n",
    "    button_list.append(button_hint)\n",
    "    button_list.append(button_js)\n",
    "    out_list.append(out_hint)\n",
    "    length=int(len(button_list))\n",
    "    if length%2==0:    \n",
    "        left_box_butt=widgets.VBox(button_list[0:int((length/2))])\n",
    "        left_box_out=widgets.VBox(out_list[0:int((length/2))])\n",
    "        right_box_butt=widgets.VBox(button_list[int((length/2)):int((length))])\n",
    "        right_box_out=widgets.VBox(out_list[int((length/2)):int((length))])\n",
    "    else:\n",
    "        left_box_butt=widgets.VBox(button_list[0:int(((length+1)/2))])\n",
    "        left_box_out=widgets.VBox(out_list[0:int(((length+1)/2))])\n",
    "        right_box_butt=widgets.VBox(button_list[int(((length/2)+1)):int((length))])\n",
    "        right_box_out=widgets.VBox(out_list[int(((length/2)+1)):int((length))])\n",
    "        \n",
    "    left_box=HBox([left_box_butt,left_box_out])\n",
    "    right_box=HBox([right_box_butt,right_box_out])\n",
    "    display_box=HBox([left_box,right_box])\n",
    "    return display_box"
   ]
  },
  {
   "cell_type": "code",
   "execution_count": 57,
   "metadata": {
    "scrolled": true
   },
   "outputs": [],
   "source": [
    "Q1=create_mcq(1,'q text',['a','b','c','d'],'c','hint')"
   ]
  },
  {
   "cell_type": "code",
   "execution_count": 58,
   "metadata": {
    "scrolled": true
   },
   "outputs": [
    {
     "data": {
      "application/vnd.jupyter.widget-view+json": {
       "model_id": "63c6982261a84e78bae2b3c86d86eaa0",
       "version_major": 2,
       "version_minor": 0
      },
      "text/plain": [
       "HBox(children=(HBox(children=(VBox(children=(Button(description='a', style=ButtonStyle()), Button(description=…"
      ]
     },
     "metadata": {},
     "output_type": "display_data"
    },
    {
     "data": {
      "application/javascript": [
       "IPython.notebook.execute_cells([IPython.notebook.get_selected_index()+1])"
      ],
      "text/plain": [
       "<IPython.core.display.Javascript object>"
      ]
     },
     "metadata": {},
     "output_type": "display_data"
    }
   ],
   "source": [
    "Q1"
   ]
  },
  {
   "cell_type": "code",
   "execution_count": 59,
   "metadata": {
    "scrolled": true
   },
   "outputs": [
    {
     "name": "stdout",
     "output_type": "stream",
     "text": [
      "<class 'ipywidgets.widgets.widget_output.Output'>\n",
      "<class 'ipywidgets.widgets.widget_output.Output'>\n",
      "<class 'ipywidgets.widgets.widget_output.Output'>\n",
      "<class 'ipywidgets.widgets.widget_output.Output'>\n",
      "<class 'ipywidgets.widgets.widget_output.Output'>\n",
      "<class 'ipywidgets.widgets.widget_output.Output'>\n",
      "<class 'ipywidgets.widgets.widget_output.Output'>\n",
      "<class 'ipywidgets.widgets.widget_output.Output'>\n",
      "VBox(children=(Output(), Output()))\n"
     ]
    }
   ],
   "source": [
    "def correct_click(i):\n",
    "    with outs[i]:\n",
    "        outs[i].clear_output()\n",
    "        print(\"Correct!\")\n",
    "def wrong_click(i):\n",
    "    with outs[i]:\n",
    "        outs[i].clear_output()\n",
    "        print(\"Wrong!\")\n",
    "options= ['a','b','c','d']\n",
    "ans='c'\n",
    "button1 = 0\n",
    "buttons={0:button1}\n",
    "out1=0\n",
    "outs={0:out1}\n",
    "button_list=[]\n",
    "out_list=[]\n",
    "   \n",
    "for i in range(0,len(options)):\n",
    "    buttons[i]=widgets.Button(description='{}'.format((options[i])))\n",
    "    button_list.append(buttons[i])\n",
    "    outs[i]=widgets.Output()\n",
    "    print(type(outs[i]))\n",
    "    out_list.append(outs[i])\n",
    "    print(type(out_list[i]))\n",
    "    if options[i]==ans:\n",
    "        buttons[i].on_click(correct_click(i))\n",
    "    else:\n",
    "        buttons[i].on_click(wrong_click(i))\n",
    "    #return[button_list,out_list,q_text,hint]\n",
    "\n",
    "#def display_mcq(button_list,out_list,q_text,hint):              \n",
    "length=int(len(button_list))\n",
    "if length%2==0:    \n",
    "    left_box_butt=widgets.VBox(button_list[0:int((length/2))])\n",
    "    left_box_out=widgets.VBox(out_list[0:int((length/2))])\n",
    "    print(left_box_out)\n",
    "    right_box_butt=widgets.VBox(button_list[int((length/2)):int((length))])\n",
    "    right_box_out=widgets.VBox(out_list[int((length/2)):int((length))])\n",
    "else:\n",
    "    left_box_butt=widgets.VBox(button_list[0:int(((length+1)/2))])\n",
    "    left_box_out=widgets.VBox(out_list[0:int(((length+1)/2))])\n",
    "    right_box_butt=widgets.VBox(button_list[int(((length/2)+1)):int((length))])\n",
    "    right_box_out=widgets.VBox(out_list[int(((length/2)+1)):int((length))])\n",
    "left_box=HBox([left_box_butt,left_box_out])\n",
    "right_box=HBox([right_box_butt,right_box_out])\n",
    "display_box=HBox([left_box,right_box])"
   ]
  },
  {
   "cell_type": "code",
   "execution_count": 45,
   "metadata": {},
   "outputs": [
    {
     "data": {
      "application/javascript": [
       "var output_area = this;\n",
       "// find my cell element\n",
       "var cell_element = output_area.element.parents('.cell');\n",
       "// which cell is it?\n",
       "var cell_idx = Jupyter.notebook.get_cell_elements().index(cell_element);\n",
       "console.log(cell_idx)\n"
      ],
      "text/plain": [
       "<IPython.core.display.Javascript object>"
      ]
     },
     "metadata": {},
     "output_type": "display_data"
    }
   ],
   "source": [
    "%%javascript\n",
    "var output_area = this;\n",
    "// find my cell element\n",
    "var cell_element = output_area.element.parents('.cell');\n",
    "// which cell is it?\n",
    "var cell_idx = Jupyter.notebook.get_cell_elements().index(cell_element);\n",
    "console.log(cell_idx)"
   ]
  },
  {
   "cell_type": "code",
   "execution_count": 54,
   "metadata": {
    "scrolled": true
   },
   "outputs": [
    {
     "data": {
      "application/vnd.jupyter.widget-view+json": {
       "model_id": "e50d8c36e3df45c2ba2233ec545cf57f",
       "version_major": 2,
       "version_minor": 0
      },
      "text/plain": [
       "Button(description='next', style=ButtonStyle())"
      ]
     },
     "metadata": {},
     "output_type": "display_data"
    },
    {
     "data": {
      "application/javascript": [
       "IPython.notebook.execute_cells([IPython.notebook.get_selected_index()+1])"
      ],
      "text/plain": [
       "<IPython.core.display.Javascript object>"
      ]
     },
     "metadata": {},
     "output_type": "display_data"
    }
   ],
   "source": [
    "def run_next(ev):\n",
    "    display(Javascript('IPython.notebook.execute_cells([IPython.notebook.get_selected_index()+1])'))\n",
    "button_js=widgets.Button(description=\"next\")\n",
    "button_js.on_click(run_next)\n",
    "display(button_js)"
   ]
  },
  {
   "cell_type": "code",
   "execution_count": 55,
   "metadata": {
    "scrolled": true
   },
   "outputs": [
    {
     "name": "stdout",
     "output_type": "stream",
     "text": [
      "true\n"
     ]
    }
   ],
   "source": [
    "print('true')"
   ]
  },
  {
   "cell_type": "code",
   "execution_count": 33,
   "metadata": {},
   "outputs": [
    {
     "name": "stdout",
     "output_type": "stream",
     "text": [
      "run\n"
     ]
    }
   ],
   "source": [
    "print('fake')"
   ]
  }
 ],
 "metadata": {
  "kernelspec": {
   "display_name": "Python 3",
   "language": "python",
   "name": "python3"
  },
  "language_info": {
   "codemirror_mode": {
    "name": "ipython",
    "version": 3
   },
   "file_extension": ".py",
   "mimetype": "text/x-python",
   "name": "python",
   "nbconvert_exporter": "python",
   "pygments_lexer": "ipython3",
   "version": "3.8.5"
  }
 },
 "nbformat": 4,
 "nbformat_minor": 4
}
